{
 "cells": [
  {
   "cell_type": "code",
   "execution_count": 1,
   "metadata": {},
   "outputs": [],
   "source": [
    "import numpy as np\n",
    "import pandas as pd\n",
    "import matplotlib.pyplot as plt\n",
    "import seaborn as sns\n",
    "import statsmodels.api as sm\n",
    "from scipy.stats import skew, stats\n",
    "\n",
    "#Supress the warnings\n",
    "import warnings\n",
    "warnings.filterwarnings('ignore')"
   ]
  },
  {
   "cell_type": "code",
   "execution_count": 2,
   "metadata": {},
   "outputs": [],
   "source": [
    "advertising = pd.read_csv('Advertising.csv')"
   ]
  },
  {
   "cell_type": "code",
   "execution_count": 3,
   "metadata": {},
   "outputs": [
    {
     "data": {
      "text/html": [
       "<div>\n",
       "<style scoped>\n",
       "    .dataframe tbody tr th:only-of-type {\n",
       "        vertical-align: middle;\n",
       "    }\n",
       "\n",
       "    .dataframe tbody tr th {\n",
       "        vertical-align: top;\n",
       "    }\n",
       "\n",
       "    .dataframe thead th {\n",
       "        text-align: right;\n",
       "    }\n",
       "</style>\n",
       "<table border=\"1\" class=\"dataframe\">\n",
       "  <thead>\n",
       "    <tr style=\"text-align: right;\">\n",
       "      <th></th>\n",
       "      <th>Unnamed: 0</th>\n",
       "      <th>TV</th>\n",
       "      <th>Radio</th>\n",
       "      <th>Newspaper</th>\n",
       "      <th>Sales</th>\n",
       "    </tr>\n",
       "  </thead>\n",
       "  <tbody>\n",
       "    <tr>\n",
       "      <th>0</th>\n",
       "      <td>1</td>\n",
       "      <td>230.1</td>\n",
       "      <td>37.8</td>\n",
       "      <td>69.2</td>\n",
       "      <td>22.1</td>\n",
       "    </tr>\n",
       "    <tr>\n",
       "      <th>1</th>\n",
       "      <td>2</td>\n",
       "      <td>44.5</td>\n",
       "      <td>39.3</td>\n",
       "      <td>45.1</td>\n",
       "      <td>10.4</td>\n",
       "    </tr>\n",
       "    <tr>\n",
       "      <th>2</th>\n",
       "      <td>3</td>\n",
       "      <td>17.2</td>\n",
       "      <td>45.9</td>\n",
       "      <td>69.3</td>\n",
       "      <td>9.3</td>\n",
       "    </tr>\n",
       "    <tr>\n",
       "      <th>3</th>\n",
       "      <td>4</td>\n",
       "      <td>151.5</td>\n",
       "      <td>41.3</td>\n",
       "      <td>58.5</td>\n",
       "      <td>18.5</td>\n",
       "    </tr>\n",
       "    <tr>\n",
       "      <th>4</th>\n",
       "      <td>5</td>\n",
       "      <td>180.8</td>\n",
       "      <td>10.8</td>\n",
       "      <td>58.4</td>\n",
       "      <td>12.9</td>\n",
       "    </tr>\n",
       "    <tr>\n",
       "      <th>5</th>\n",
       "      <td>6</td>\n",
       "      <td>8.7</td>\n",
       "      <td>48.9</td>\n",
       "      <td>75.0</td>\n",
       "      <td>7.2</td>\n",
       "    </tr>\n",
       "    <tr>\n",
       "      <th>6</th>\n",
       "      <td>7</td>\n",
       "      <td>57.5</td>\n",
       "      <td>32.8</td>\n",
       "      <td>23.5</td>\n",
       "      <td>11.8</td>\n",
       "    </tr>\n",
       "    <tr>\n",
       "      <th>7</th>\n",
       "      <td>8</td>\n",
       "      <td>120.2</td>\n",
       "      <td>19.6</td>\n",
       "      <td>11.6</td>\n",
       "      <td>13.2</td>\n",
       "    </tr>\n",
       "    <tr>\n",
       "      <th>8</th>\n",
       "      <td>9</td>\n",
       "      <td>8.6</td>\n",
       "      <td>2.1</td>\n",
       "      <td>1.0</td>\n",
       "      <td>4.8</td>\n",
       "    </tr>\n",
       "    <tr>\n",
       "      <th>9</th>\n",
       "      <td>10</td>\n",
       "      <td>199.8</td>\n",
       "      <td>2.6</td>\n",
       "      <td>21.2</td>\n",
       "      <td>10.6</td>\n",
       "    </tr>\n",
       "  </tbody>\n",
       "</table>\n",
       "</div>"
      ],
      "text/plain": [
       "   Unnamed: 0     TV  Radio  Newspaper  Sales\n",
       "0           1  230.1   37.8       69.2   22.1\n",
       "1           2   44.5   39.3       45.1   10.4\n",
       "2           3   17.2   45.9       69.3    9.3\n",
       "3           4  151.5   41.3       58.5   18.5\n",
       "4           5  180.8   10.8       58.4   12.9\n",
       "5           6    8.7   48.9       75.0    7.2\n",
       "6           7   57.5   32.8       23.5   11.8\n",
       "7           8  120.2   19.6       11.6   13.2\n",
       "8           9    8.6    2.1        1.0    4.8\n",
       "9          10  199.8    2.6       21.2   10.6"
      ]
     },
     "execution_count": 3,
     "metadata": {},
     "output_type": "execute_result"
    }
   ],
   "source": [
    "advertising.head(10)"
   ]
  },
  {
   "cell_type": "code",
   "execution_count": 4,
   "metadata": {},
   "outputs": [],
   "source": [
    "advertising.drop(columns='Unnamed: 0', axis=1, inplace=True)"
   ]
  },
  {
   "cell_type": "code",
   "execution_count": 5,
   "metadata": {},
   "outputs": [
    {
     "data": {
      "text/html": [
       "<div>\n",
       "<style scoped>\n",
       "    .dataframe tbody tr th:only-of-type {\n",
       "        vertical-align: middle;\n",
       "    }\n",
       "\n",
       "    .dataframe tbody tr th {\n",
       "        vertical-align: top;\n",
       "    }\n",
       "\n",
       "    .dataframe thead th {\n",
       "        text-align: right;\n",
       "    }\n",
       "</style>\n",
       "<table border=\"1\" class=\"dataframe\">\n",
       "  <thead>\n",
       "    <tr style=\"text-align: right;\">\n",
       "      <th></th>\n",
       "      <th>index</th>\n",
       "      <th>TV</th>\n",
       "      <th>Radio</th>\n",
       "      <th>Newspaper</th>\n",
       "      <th>Sales</th>\n",
       "    </tr>\n",
       "  </thead>\n",
       "  <tbody>\n",
       "    <tr>\n",
       "      <th>0</th>\n",
       "      <td>0</td>\n",
       "      <td>230.1</td>\n",
       "      <td>37.8</td>\n",
       "      <td>69.2</td>\n",
       "      <td>22.1</td>\n",
       "    </tr>\n",
       "    <tr>\n",
       "      <th>1</th>\n",
       "      <td>1</td>\n",
       "      <td>44.5</td>\n",
       "      <td>39.3</td>\n",
       "      <td>45.1</td>\n",
       "      <td>10.4</td>\n",
       "    </tr>\n",
       "    <tr>\n",
       "      <th>2</th>\n",
       "      <td>2</td>\n",
       "      <td>17.2</td>\n",
       "      <td>45.9</td>\n",
       "      <td>69.3</td>\n",
       "      <td>9.3</td>\n",
       "    </tr>\n",
       "    <tr>\n",
       "      <th>3</th>\n",
       "      <td>3</td>\n",
       "      <td>151.5</td>\n",
       "      <td>41.3</td>\n",
       "      <td>58.5</td>\n",
       "      <td>18.5</td>\n",
       "    </tr>\n",
       "    <tr>\n",
       "      <th>4</th>\n",
       "      <td>4</td>\n",
       "      <td>180.8</td>\n",
       "      <td>10.8</td>\n",
       "      <td>58.4</td>\n",
       "      <td>12.9</td>\n",
       "    </tr>\n",
       "    <tr>\n",
       "      <th>...</th>\n",
       "      <td>...</td>\n",
       "      <td>...</td>\n",
       "      <td>...</td>\n",
       "      <td>...</td>\n",
       "      <td>...</td>\n",
       "    </tr>\n",
       "    <tr>\n",
       "      <th>195</th>\n",
       "      <td>195</td>\n",
       "      <td>38.2</td>\n",
       "      <td>3.7</td>\n",
       "      <td>13.8</td>\n",
       "      <td>7.6</td>\n",
       "    </tr>\n",
       "    <tr>\n",
       "      <th>196</th>\n",
       "      <td>196</td>\n",
       "      <td>94.2</td>\n",
       "      <td>4.9</td>\n",
       "      <td>8.1</td>\n",
       "      <td>9.7</td>\n",
       "    </tr>\n",
       "    <tr>\n",
       "      <th>197</th>\n",
       "      <td>197</td>\n",
       "      <td>177.0</td>\n",
       "      <td>9.3</td>\n",
       "      <td>6.4</td>\n",
       "      <td>12.8</td>\n",
       "    </tr>\n",
       "    <tr>\n",
       "      <th>198</th>\n",
       "      <td>198</td>\n",
       "      <td>283.6</td>\n",
       "      <td>42.0</td>\n",
       "      <td>66.2</td>\n",
       "      <td>25.5</td>\n",
       "    </tr>\n",
       "    <tr>\n",
       "      <th>199</th>\n",
       "      <td>199</td>\n",
       "      <td>232.1</td>\n",
       "      <td>8.6</td>\n",
       "      <td>8.7</td>\n",
       "      <td>13.4</td>\n",
       "    </tr>\n",
       "  </tbody>\n",
       "</table>\n",
       "<p>200 rows × 5 columns</p>\n",
       "</div>"
      ],
      "text/plain": [
       "     index     TV  Radio  Newspaper  Sales\n",
       "0        0  230.1   37.8       69.2   22.1\n",
       "1        1   44.5   39.3       45.1   10.4\n",
       "2        2   17.2   45.9       69.3    9.3\n",
       "3        3  151.5   41.3       58.5   18.5\n",
       "4        4  180.8   10.8       58.4   12.9\n",
       "..     ...    ...    ...        ...    ...\n",
       "195    195   38.2    3.7       13.8    7.6\n",
       "196    196   94.2    4.9        8.1    9.7\n",
       "197    197  177.0    9.3        6.4   12.8\n",
       "198    198  283.6   42.0       66.2   25.5\n",
       "199    199  232.1    8.6        8.7   13.4\n",
       "\n",
       "[200 rows x 5 columns]"
      ]
     },
     "execution_count": 5,
     "metadata": {},
     "output_type": "execute_result"
    }
   ],
   "source": [
    "advertising.reset_index()"
   ]
  },
  {
   "cell_type": "code",
   "execution_count": 6,
   "metadata": {},
   "outputs": [
    {
     "data": {
      "text/plain": [
       "(200, 4)"
      ]
     },
     "execution_count": 6,
     "metadata": {},
     "output_type": "execute_result"
    }
   ],
   "source": [
    "advertising.shape"
   ]
  },
  {
   "cell_type": "code",
   "execution_count": 7,
   "metadata": {},
   "outputs": [
    {
     "name": "stdout",
     "output_type": "stream",
     "text": [
      "<class 'pandas.core.frame.DataFrame'>\n",
      "RangeIndex: 200 entries, 0 to 199\n",
      "Data columns (total 4 columns):\n",
      " #   Column     Non-Null Count  Dtype  \n",
      "---  ------     --------------  -----  \n",
      " 0   TV         200 non-null    float64\n",
      " 1   Radio      200 non-null    float64\n",
      " 2   Newspaper  200 non-null    float64\n",
      " 3   Sales      200 non-null    float64\n",
      "dtypes: float64(4)\n",
      "memory usage: 6.4 KB\n"
     ]
    }
   ],
   "source": [
    "advertising.info()\n",
    "\n",
    "# No missing values present in the dataset. "
   ]
  },
  {
   "cell_type": "code",
   "execution_count": 8,
   "metadata": {},
   "outputs": [
    {
     "data": {
      "text/html": [
       "<div>\n",
       "<style scoped>\n",
       "    .dataframe tbody tr th:only-of-type {\n",
       "        vertical-align: middle;\n",
       "    }\n",
       "\n",
       "    .dataframe tbody tr th {\n",
       "        vertical-align: top;\n",
       "    }\n",
       "\n",
       "    .dataframe thead th {\n",
       "        text-align: right;\n",
       "    }\n",
       "</style>\n",
       "<table border=\"1\" class=\"dataframe\">\n",
       "  <thead>\n",
       "    <tr style=\"text-align: right;\">\n",
       "      <th></th>\n",
       "      <th>TV</th>\n",
       "      <th>Radio</th>\n",
       "      <th>Newspaper</th>\n",
       "      <th>Sales</th>\n",
       "    </tr>\n",
       "  </thead>\n",
       "  <tbody>\n",
       "    <tr>\n",
       "      <th>count</th>\n",
       "      <td>200.000000</td>\n",
       "      <td>200.000000</td>\n",
       "      <td>200.000000</td>\n",
       "      <td>200.000000</td>\n",
       "    </tr>\n",
       "    <tr>\n",
       "      <th>mean</th>\n",
       "      <td>147.042500</td>\n",
       "      <td>23.264000</td>\n",
       "      <td>30.554000</td>\n",
       "      <td>14.022500</td>\n",
       "    </tr>\n",
       "    <tr>\n",
       "      <th>std</th>\n",
       "      <td>85.854236</td>\n",
       "      <td>14.846809</td>\n",
       "      <td>21.778621</td>\n",
       "      <td>5.217457</td>\n",
       "    </tr>\n",
       "    <tr>\n",
       "      <th>min</th>\n",
       "      <td>0.700000</td>\n",
       "      <td>0.000000</td>\n",
       "      <td>0.300000</td>\n",
       "      <td>1.600000</td>\n",
       "    </tr>\n",
       "    <tr>\n",
       "      <th>25%</th>\n",
       "      <td>74.375000</td>\n",
       "      <td>9.975000</td>\n",
       "      <td>12.750000</td>\n",
       "      <td>10.375000</td>\n",
       "    </tr>\n",
       "    <tr>\n",
       "      <th>50%</th>\n",
       "      <td>149.750000</td>\n",
       "      <td>22.900000</td>\n",
       "      <td>25.750000</td>\n",
       "      <td>12.900000</td>\n",
       "    </tr>\n",
       "    <tr>\n",
       "      <th>75%</th>\n",
       "      <td>218.825000</td>\n",
       "      <td>36.525000</td>\n",
       "      <td>45.100000</td>\n",
       "      <td>17.400000</td>\n",
       "    </tr>\n",
       "    <tr>\n",
       "      <th>max</th>\n",
       "      <td>296.400000</td>\n",
       "      <td>49.600000</td>\n",
       "      <td>114.000000</td>\n",
       "      <td>27.000000</td>\n",
       "    </tr>\n",
       "  </tbody>\n",
       "</table>\n",
       "</div>"
      ],
      "text/plain": [
       "               TV       Radio   Newspaper       Sales\n",
       "count  200.000000  200.000000  200.000000  200.000000\n",
       "mean   147.042500   23.264000   30.554000   14.022500\n",
       "std     85.854236   14.846809   21.778621    5.217457\n",
       "min      0.700000    0.000000    0.300000    1.600000\n",
       "25%     74.375000    9.975000   12.750000   10.375000\n",
       "50%    149.750000   22.900000   25.750000   12.900000\n",
       "75%    218.825000   36.525000   45.100000   17.400000\n",
       "max    296.400000   49.600000  114.000000   27.000000"
      ]
     },
     "execution_count": 8,
     "metadata": {},
     "output_type": "execute_result"
    }
   ],
   "source": [
    "advertising.describe()"
   ]
  },
  {
   "cell_type": "code",
   "execution_count": 9,
   "metadata": {},
   "outputs": [
    {
     "data": {
      "text/plain": [
       "TV           float64\n",
       "Radio        float64\n",
       "Newspaper    float64\n",
       "Sales        float64\n",
       "dtype: object"
      ]
     },
     "execution_count": 9,
     "metadata": {},
     "output_type": "execute_result"
    }
   ],
   "source": [
    "advertising.dtypes"
   ]
  },
  {
   "cell_type": "code",
   "execution_count": 10,
   "metadata": {},
   "outputs": [
    {
     "data": {
      "text/plain": [
       "TV          -0.069853\n",
       "Radio        0.094175\n",
       "Newspaper    0.894720\n",
       "dtype: float64"
      ]
     },
     "execution_count": 10,
     "metadata": {},
     "output_type": "execute_result"
    }
   ],
   "source": [
    "advertising.loc[:, ['TV', 'Radio', 'Newspaper']].skew()"
   ]
  },
  {
   "cell_type": "code",
   "execution_count": 11,
   "metadata": {},
   "outputs": [
    {
     "data": {
      "text/plain": [
       "<seaborn.axisgrid.FacetGrid at 0x7f6838a16dc0>"
      ]
     },
     "execution_count": 11,
     "metadata": {},
     "output_type": "execute_result"
    },
    {
     "data": {
      "image/png": "[encoded data removed]",
      "text/plain": [
       "<Figure size 360x360 with 1 Axes>"
      ]
     },
     "metadata": {
      "needs_background": "light"
     },
     "output_type": "display_data"
    }
   ],
   "source": [
    "sns.displot(advertising.TV, kde=True)"
   ]
  },
  {
   "cell_type": "code",
   "execution_count": 12,
   "metadata": {},
   "outputs": [
    {
     "data": {
      "text/plain": [
       "<seaborn.axisgrid.FacetGrid at 0x7f68360dbb80>"
      ]
     },
     "execution_count": 12,
     "metadata": {},
     "output_type": "execute_result"
    },
    {
     "data": {
      "image/png": "[encoded data removed]",
      "text/plain": [
       "<Figure size 360x360 with 1 Axes>"
      ]
     },
     "metadata": {
      "needs_background": "light"
     },
     "output_type": "display_data"
    }
   ],
   "source": [
    "sns.displot(advertising.Radio, kde=True)"
   ]
  },
  {
   "cell_type": "code",
   "execution_count": 13,
   "metadata": {},
   "outputs": [
    {
     "data": {
      "text/plain": [
       "<seaborn.axisgrid.FacetGrid at 0x7f6836031a90>"
      ]
     },
     "execution_count": 13,
     "metadata": {},
     "output_type": "execute_result"
    },
    {
     "data": {
      "image/png": "[encoded data removed]",
      "text/plain": [
       "<Figure size 360x360 with 1 Axes>"
      ]
     },
     "metadata": {
      "needs_background": "light"
     },
     "output_type": "display_data"
    }
   ],
   "source": [
    "sns.displot(advertising.Newspaper, kde=True)"
   ]
  },
  {
   "cell_type": "markdown",
   "metadata": {},
   "source": [
    "### The news paper data is skwed right so in this condition the median is less than mean \n",
    "### & vice versa in left skwed"
   ]
  },
  {
   "cell_type": "code",
   "execution_count": 14,
   "metadata": {},
   "outputs": [
    {
     "data": {
      "text/plain": [
       "30.553999999999995"
      ]
     },
     "execution_count": 14,
     "metadata": {},
     "output_type": "execute_result"
    }
   ],
   "source": [
    "advertising['Newspaper'].mean()"
   ]
  },
  {
   "cell_type": "code",
   "execution_count": 15,
   "metadata": {},
   "outputs": [
    {
     "data": {
      "text/plain": [
       "25.75"
      ]
     },
     "execution_count": 15,
     "metadata": {},
     "output_type": "execute_result"
    }
   ],
   "source": [
    "advertising.Newspaper.median()"
   ]
  },
  {
   "cell_type": "code",
   "execution_count": 16,
   "metadata": {},
   "outputs": [
    {
     "data": {
      "text/plain": [
       "<AxesSubplot:xlabel='Newspaper'>"
      ]
     },
     "execution_count": 16,
     "metadata": {},
     "output_type": "execute_result"
    },
    {
     "data": {
      "image/png": "[encoded data removed]",
      "text/plain": [
       "<Figure size 432x288 with 1 Axes>"
      ]
     },
     "metadata": {
      "needs_background": "light"
     },
     "output_type": "display_data"
    }
   ],
   "source": [
    "sns.boxplot(advertising.Newspaper)"
   ]
  },
  {
   "cell_type": "code",
   "execution_count": 17,
   "metadata": {},
   "outputs": [
    {
     "data": {
      "text/plain": [
       "<AxesSubplot:xlabel='TV'>"
      ]
     },
     "execution_count": 17,
     "metadata": {},
     "output_type": "execute_result"
    },
    {
     "data": {
      "image/png": "[encoded data removed]",
      "text/plain": [
       "<Figure size 432x288 with 1 Axes>"
      ]
     },
     "metadata": {
      "needs_background": "light"
     },
     "output_type": "display_data"
    }
   ],
   "source": [
    "sns.boxplot(advertising.TV)"
   ]
  },
  {
   "cell_type": "code",
   "execution_count": 18,
   "metadata": {},
   "outputs": [
    {
     "data": {
      "text/plain": [
       "<AxesSubplot:xlabel='Radio'>"
      ]
     },
     "execution_count": 18,
     "metadata": {},
     "output_type": "execute_result"
    },
    {
     "data": {
      "image/png": "[encoded data removed]",
      "text/plain": [
       "<Figure size 432x288 with 1 Axes>"
      ]
     },
     "metadata": {
      "needs_background": "light"
     },
     "output_type": "display_data"
    }
   ],
   "source": [
    "sns.boxplot(advertising.Radio)"
   ]
  },
  {
   "cell_type": "code",
   "execution_count": 19,
   "metadata": {},
   "outputs": [
    {
     "name": "stdout",
     "output_type": "stream",
     "text": [
      "[[9.69852266e-01 9.81522472e-01 1.77894547e+00 1.55205313e+00]\n",
      " [1.19737623e+00 1.08280781e+00 6.69578760e-01 6.96046111e-01]\n",
      " [1.51615499e+00 1.52846331e+00 1.78354865e+00 9.07405869e-01]\n",
      " [5.20496822e-02 1.21785493e+00 1.28640506e+00 8.60330287e-01]\n",
      " [3.94182198e-01 8.41613655e-01 1.28180188e+00 2.15683025e-01]\n",
      " [1.61540845e+00 1.73103399e+00 2.04592999e+00 1.31091086e+00]\n",
      " [1.04557682e+00 6.43904671e-01 3.24708413e-01 4.27042783e-01]\n",
      " [3.13436589e-01 2.47406325e-01 8.72486994e-01 1.58039455e-01]\n",
      " [1.61657614e+00 1.42906863e+00 1.36042422e+00 1.77205942e+00]\n",
      " [6.16042873e-01 1.39530685e+00 4.30581584e-01 6.57617064e-01]\n",
      " [9.45155670e-01 1.17923146e+00 2.92486143e-01 1.04190753e+00]\n",
      " [7.90028350e-01 4.96973404e-02 1.22232878e+00 6.48970529e-01]\n",
      " [1.43908760e+00 7.99208859e-01 1.62704048e+00 9.26620392e-01]\n",
      " [5.78501712e-01 1.05768905e+00 1.07502697e+00 8.30547775e-01]\n",
      " [6.66253447e-01 6.50657027e-01 7.11007392e-01 9.56402904e-01]\n",
      " [5.64664612e-01 1.65000572e+00 1.02862691e+00 1.60969670e+00]\n",
      " [9.25304978e-01 9.00494200e-01 3.84117072e+00 2.92541119e-01]\n",
      " [1.56887609e+00 1.10306488e+00 1.16211917e+00 1.99398717e+00]\n",
      " [9.08957349e-01 1.86635121e-01 5.64073843e-01 5.23115400e-01]\n",
      " [3.00679600e-03 4.29449843e-02 5.27248393e-01 1.10963873e-01]\n",
      " [8.33232798e-01 2.99534513e-01 1.05164281e+00 7.64257669e-01]\n",
      " [1.05509347e+00 1.22649795e+00 3.24708413e-01 2.92541119e-01]\n",
      " [1.56286250e+00 4.97243498e-01 8.76721921e-01 1.61834324e+00]\n",
      " [9.48833887e-01 4.29719938e-01 2.00422516e-01 2.83894584e-01]\n",
      " [9.89527805e-01 7.20071247e-01 5.64073843e-01 8.30547775e-01]\n",
      " [1.35285385e+00 1.33453565e+00 5.08835667e-01 3.88613736e-01]\n",
      " [4.83714657e-02 4.07572210e-01 8.26455181e-01 1.87821967e-01]\n",
      " [1.08662104e+00 4.43224650e-01 3.52327501e-01 3.60752677e-01]\n",
      " [1.18820988e+00 2.59020377e-01 3.52327501e-01 9.37188380e-01]\n",
      " [8.92609721e-01 4.90491142e-01 4.71641962e-01 6.76831588e-01]\n",
      " [1.70316018e+00 3.40048650e-01 5.82118314e-01 1.41755147e+00]\n",
      " [3.98677796e-01 3.95958157e-01 3.70371972e-01 4.07828260e-01]\n",
      " [5.82004775e-01 1.46958277e+00 2.55016247e-02 8.49762299e-01]\n",
      " [1.38438142e+00 2.20396901e-01 1.39264649e+00 6.48970529e-01]\n",
      " [5.99520091e-01 1.47633512e+00 1.06582061e+00 8.68976822e-01]\n",
      " [1.67747105e+00 1.29402151e+00 1.01518562e+00 2.34897549e-01]\n",
      " [1.39956136e+00 1.38666383e+00 1.17629696e+00 2.18613240e+00]\n",
      " [8.44734522e-01 1.76479577e+00 6.97197848e-01 1.30178396e-01]\n",
      " [1.21372386e+00 2.32010953e-01 2.09260624e-01 7.53689682e-01]\n",
      " [9.45330823e-01 9.74770116e-01 6.65620024e-02 1.43676599e+00]\n",
      " [6.47570443e-01 6.50927121e-02 4.81492770e-02 4.95254341e-01]\n",
      " [3.49810063e-01 6.84418807e-01 3.74975153e-01 5.91326959e-01]\n",
      " [1.71133400e+00 2.99534513e-01 1.32359877e+00 1.28304980e+00]\n",
      " [6.98948705e-01 1.00367020e+00 1.91216154e-01 2.15683025e-01]\n",
      " [1.42390765e+00 1.64487393e-01 5.86721496e-01 1.06112206e+00]\n",
      " [3.27623995e-01 5.15880000e-02 4.35460956e-02 1.68607443e-01]\n",
      " [6.69581357e-01 9.02384859e-01 2.36879713e-01 6.57617064e-01]\n",
      " [1.08428567e+00 1.23135965e+00 5.54867481e-01 1.76341289e+00]\n",
      " [9.35989321e-01 5.03995854e-01 8.90531465e-01 1.49392920e-01]\n",
      " [9.35814168e-01 7.80842451e-01 2.87514708e-01 8.30547775e-01]\n",
      " [6.16042873e-01 1.36154507e+00 1.86244718e-01 5.03900877e-01]\n",
      " [5.44638766e-01 9.22641928e-01 1.24074150e+00 6.38402541e-01]\n",
      " [8.09879042e-01 1.24486436e+00 4.16403786e-01 1.64812575e+00]\n",
      " [4.15200577e-01 1.54872038e+00 1.29561142e+00 1.37912242e+00]\n",
      " [1.35051848e+00 3.73810430e-01 6.74550196e-01 1.18697718e+00]\n",
      " [6.05533683e-01 1.76479577e+00 1.35545278e+00 1.85948550e+00]\n",
      " [1.63175608e+00 3.26543937e-01 4.99261050e-01 1.63755776e+00]\n",
      " [1.26606546e-01 2.74415749e-01 6.42327927e-01 1.58039455e-01]\n",
      " [7.44488528e-01 1.77830048e+00 3.28943340e-01 1.87870003e+00]\n",
      " [7.43320840e-01 4.21076922e-01 9.78360166e-01 8.41115763e-01]\n",
      " [1.09228433e+00 1.43582099e+00 4.21375221e-01 1.13798015e+00]\n",
      " [1.33417085e+00 1.31238792e+00 1.11148417e+00 1.95555812e+00]\n",
      " [1.07727954e+00 5.24252922e-01 1.49787521e-01 3.22323631e-01]\n",
      " [5.17781948e-01 4.27829278e-01 1.01978880e+00 4.32326777e-03]\n",
      " [1.86158622e-01 1.31914027e+00 7.61366196e-02 7.64257669e-01]\n",
      " [9.11292725e-01 9.42898996e-01 1.36502740e+00 9.07405869e-01]\n",
      " [1.34917564e+00 9.02114765e-02 1.30518604e+00 8.68976822e-01]\n",
      " [9.04082253e-02 5.91776482e-01 9.36931533e-01 1.19610408e-01]\n",
      " [1.05509347e+00 2.86029801e-01 9.00106083e-01 9.37188380e-01]\n",
      " [8.14549794e-01 1.39341619e+00 1.54390703e-01 1.59048218e+00]\n",
      " [6.07869059e-01 4.95352838e-01 3.74975153e-01 8.21901240e-01]\n",
      " [4.34876116e-01 6.05281194e-01 5.27524584e-02 3.11755643e-01]\n",
      " [1.40405696e+00 6.57409383e-01 5.18042030e-01 1.00347849e+00]\n",
      " [2.06009314e-01 1.18598381e+00 3.43397329e-02 5.80758971e-01]\n",
      " [7.74848409e-01 9.02114765e-02 8.03439274e-01 5.72112435e-01]\n",
      " [1.51965805e+00 1.37991148e+00 2.70878810e+00 1.02269301e+00]\n",
      " [1.39588315e+00 1.46283041e+00 4.53597491e-01 1.36855443e+00]\n",
      " [3.09933525e-01 3.53553362e-01 7.52804279e-01 3.41057791e-02]\n",
      " [1.65394214e+00 4.48086346e-01 9.73756984e-01 1.67598681e+00]\n",
      " [3.62479475e-01 1.05093669e+00 3.43121138e-01 5.80758971e-01]\n",
      " [8.24883830e-01 2.32010953e-01 3.79946589e-01 4.27042783e-01]\n",
      " [1.08311798e+00 1.29402151e+00 2.92117889e-01 3.30970166e-01]\n",
      " [8.37728396e-01 2.00139833e-01 8.95779092e-02 5.23115400e-01]\n",
      " [9.18298852e-01 1.43393033e+00 2.32276531e-01 8.11813615e-02]\n",
      " [7.76016097e-01 1.33264499e+00 1.49419267e-01 1.47519504e+00]\n",
      " [5.38975481e-01 3.28434597e-01 1.61783412e+00 2.26251013e-01]\n",
      " [8.26051518e-01 2.86029801e-01 6.69947015e-01 3.88613736e-01]\n",
      " [4.24366926e-01 1.17058844e+00 1.50275459e+00 3.79967201e-01]\n",
      " [6.85928986e-01 1.50982681e-01 1.97227908e+00 2.15683025e-01]\n",
      " [4.34876116e-01 1.65675807e+00 9.59579186e-01 5.14468865e-01]\n",
      " [1.48792614e-01 1.24000266e+00 9.78360166e-01 5.42329924e-01]\n",
      " [1.38303858e+00 1.46958277e+00 1.12593816e-01 1.29169634e+00]\n",
      " [8.25058983e-01 6.91171163e-01 1.30942097e+00 1.03326100e+00]\n",
      " [1.21273132e+00 8.93741844e-01 1.92164409e+00 1.57126765e+00]\n",
      " [4.62900623e-01 6.25538262e-01 9.04709264e-01 4.84686354e-01]\n",
      " [1.89836839e-01 5.62876398e-01 1.02862691e+00 5.52897912e-01]\n",
      " [5.90353742e-01 1.33453565e+00 1.13486833e+00 4.46257307e-01]\n",
      " [4.42057396e-01 1.52873340e-01 3.93756133e-01 2.83894584e-01]\n",
      " [1.66579418e+00 1.28537849e+00 9.50372823e-01 2.18613240e+00]\n",
      " [1.38283424e-01 1.24486436e+00 7.06404211e-01 6.10541482e-01]\n",
      " [8.79940308e-01 1.28051680e+00 8.85928284e-01 4.46257307e-01]\n",
      " [1.74402926e+00 8.80237132e-01 3.23815396e+00 1.87870003e+00]\n",
      " [1.55486384e+00 8.88880147e-01 4.21375221e-01 1.49392920e-01]\n",
      " [4.77088029e-01 4.09462869e-01 5.82486569e-01 1.30178396e-01]\n",
      " [1.06443498e+00 7.45190011e-01 1.16248742e+00 1.28304980e+00]\n",
      " [1.06755854e-01 1.56222509e+00 1.30942097e+00 9.94831951e-01]\n",
      " [1.42507534e+00 8.28108943e-01 3.93111688e-02 1.31091086e+00]\n",
      " [6.61407543e-01 1.55061104e+00 3.38517957e-01 1.02269301e+00]\n",
      " [1.56403019e+00 1.54385868e+00 2.28041604e-01 1.67598681e+00]\n",
      " [1.26527727e+00 2.45515665e-01 1.15328106e+00 1.11011909e+00]\n",
      " [9.19641692e-01 1.01717491e+00 1.19434143e+00 1.19610408e-01]\n",
      " [1.10530405e+00 9.95027184e-01 3.38517957e-01 1.49440956e+00]\n",
      " [3.34630122e-01 5.31005278e-01 1.29597968e+00 1.48912557e-02]\n",
      " [7.30476274e-01 1.79882765e-01 9.13915627e-01 3.60752677e-01]\n",
      " [8.03865450e-01 1.58923451e+00 1.81641536e-01 1.10963873e-01]\n",
      " [8.40063771e-01 7.92456503e-01 1.01942054e+00 2.73326596e-01]\n",
      " [9.15759131e-02 6.05281194e-01 2.28041604e-01 3.50184689e-01]\n",
      " [8.24883830e-01 1.51684926e+00 7.25185191e-01 8.88191346e-01]\n",
      " [2.49213762e-01 9.20751268e-01 2.23926360e+00 3.60752677e-01]\n",
      " [1.49046586e+00 4.90491142e-01 3.79946589e-01 1.42619800e+00]\n",
      " [6.70544700e-02 2.38763309e-01 7.20213755e-01 2.83894584e-01]\n",
      " [1.49747198e+00 1.05606848e-01 9.13547372e-01 1.34933991e+00]\n",
      " [8.98623313e-01 1.40881156e+00 6.88359740e-01 4.65471830e-01]\n",
      " [2.79573643e-01 7.65447079e-01 8.35661544e-01 2.26251013e-01]\n",
      " [9.62846140e-01 6.10142891e-01 2.00910454e+00 1.09090457e+00]\n",
      " [6.98773552e-01 7.74090095e-01 2.14232060e-01 6.57617064e-01]\n",
      " [1.62591764e+00 1.05579839e+00 9.22753735e-01 1.42619800e+00]\n",
      " [7.80511695e-01 1.57086811e+00 9.82963347e-01 1.00347849e+00]\n",
      " [8.55418865e-01 1.73778635e+00 1.25915423e+00 2.05163074e+00]\n",
      " [1.02105537e+00 7.60585383e-01 5.77515133e-01 8.30547775e-01]\n",
      " [1.70882347e+00 1.10306488e+00 1.00597925e+00 2.38692417e+00]\n",
      " [1.37971067e+00 1.37504978e+00 5.72911952e-01 2.54112072e-01]\n",
      " [1.61891151e+00 2.65772733e-01 1.30978922e+00 1.59912871e+00]\n",
      " [8.49580427e-01 6.91171163e-01 6.69578760e-01 1.07169004e+00]\n",
      " [1.28612050e+00 1.03554132e+00 1.61323094e+00 6.19188018e-01]\n",
      " [1.15300409e+00 1.60273923e+00 1.01518562e+00 4.65471830e-01]\n",
      " [1.41806922e+00 1.06255074e+00 9.78360166e-01 8.68976822e-01]\n",
      " [1.47896413e+00 3.80562786e-01 1.34164324e+00 1.30226433e+00]\n",
      " [1.21489154e+00 1.77992105e-01 4.62803854e-01 8.49762299e-01]\n",
      " [4.42057396e-01 1.39341619e+00 1.32820195e+00 1.28304980e+00]\n",
      " [8.59914463e-01 4.22967582e-01 8.12645637e-01 5.99973494e-01]\n",
      " [5.44813920e-01 8.19465927e-01 2.07354907e+00 9.94831951e-01]\n",
      " [8.57754241e-01 6.70914095e-01 3.38149702e-01 1.16776266e+00]\n",
      " [4.95595880e-01 1.18598381e+00 1.77038355e-01 6.96046111e-01]\n",
      " [5.93681653e-01 5.71519414e-01 3.84181516e-01 5.03900877e-01]\n",
      " [7.87313476e-02 1.44257334e+00 9.92169710e-01 7.15260635e-01]\n",
      " [1.08662104e+00 1.07794612e+00 1.00597925e+00 1.58039455e-01]\n",
      " [1.12281936e+00 1.73778635e+00 6.32753309e-01 2.18613240e+00]\n",
      " [1.27327593e+00 1.15033137e+00 8.58677450e-01 5.99973494e-01]\n",
      " [1.19504085e+00 1.71239749e-01 4.58200672e-01 7.53689682e-01]\n",
      " [1.56070228e+00 6.32290618e-01 2.96721070e-01 3.99181724e-01]\n",
      " [3.04095087e-01 1.00367020e+00 8.35293289e-01 4.65471830e-01]\n",
      " [5.90353742e-01 2.43084817e-03 7.52804279e-01 4.95254341e-01]\n",
      " [2.83251860e-01 1.10981724e+00 3.28943340e-01 9.56402904e-01]\n",
      " [4.75920341e-01 1.46120984e-01 9.69153803e-01 3.03109107e-01]\n",
      " [1.66912209e+00 7.87594807e-01 1.14407469e+00 2.07949180e+00]\n",
      " [6.20538471e-01 1.36640677e+00 9.18150553e-01 2.45465537e-01]\n",
      " [3.21989902e-02 1.48308748e+00 2.87882962e-01 7.53689682e-01]\n",
      " [1.58037782e+00 9.20751268e-01 6.74181942e-01 1.29169634e+00]\n",
      " [1.79152496e-01 3.28434597e-01 1.86244718e-01 2.15683025e-01]\n",
      " [2.97264113e-01 3.48691665e-01 6.72064478e-03 7.25348259e-02]\n",
      " [7.16288868e-01 8.46475352e-01 8.62912377e-01 1.38824932e-01]\n",
      " [4.82926468e-01 3.48691665e-01 2.28041604e-01 1.68607443e-01]\n",
      " [1.92172214e-01 9.13998912e-01 1.06582061e+00 7.64257669e-01]\n",
      " [3.48467222e-01 5.78271770e-01 1.15788424e+00 4.07828260e-01]\n",
      " [1.02123053e+00 1.34128800e+00 2.49704176e+00 4.07828260e-01]\n",
      " [1.50798117e+00 9.68017760e-01 4.12168859e-01 1.15719467e+00]\n",
      " [6.97781017e-01 1.21974559e+00 5.13438849e-01 3.50184689e-01]\n",
      " [7.98202165e-01 2.26879163e-02 1.24497643e+00 5.91326959e-01]\n",
      " [1.60273904e+00 8.55118367e-01 1.11185242e+00 1.87821967e-01]\n",
      " [1.13315340e+00 7.87594807e-01 5.59470662e-01 1.08033658e+00]\n",
      " [2.03849092e-01 1.59625696e-01 7.75451931e-01 9.17493494e-02]\n",
      " [1.48813048e+00 2.13644545e-01 6.23915201e-01 1.23405277e+00]\n",
      " [2.49388915e-01 1.09145083e+00 8.17248818e-01 4.46257307e-01]\n",
      " [8.79940308e-01 1.34128800e+00 8.03439274e-01 4.84686354e-01]\n",
      " [1.51633014e+00 1.73103399e+00 5.17673775e-01 2.49356478e+00]\n",
      " [1.18353913e+00 4.68343414e-01 4.72010216e-01 1.18697718e+00]\n",
      " [2.70407294e-01 1.04418434e+00 2.13863806e-01 4.46257307e-01]\n",
      " [1.51399477e+00 1.41556392e+00 3.15502050e-01 4.27042783e-01]\n",
      " [2.16693657e-01 8.95632503e-01 5.96296113e-01 2.73326596e-01]\n",
      " [1.11601758e-01 1.39530685e+00 1.02439198e+00 6.76831588e-01]\n",
      " [8.34400486e-01 1.20624088e+00 1.45184340e-01 3.50184689e-01]\n",
      " [1.06075676e+00 1.18598381e+00 3.93111688e-02 1.02269301e+00]\n",
      " [1.64127273e+00 1.33264499e+00 1.89862818e+00 2.33984859e+00]\n",
      " [1.24659427e+00 1.32616272e-01 2.55016247e-02 6.87399576e-01]\n",
      " [6.76762637e-01 1.47444446e+00 5.04232486e-01 1.64812575e+00]\n",
      " [8.80728498e-02 1.42906863e+00 1.82009791e-01 7.15260635e-01]\n",
      " [5.14454038e-01 3.67058074e-01 5.68677025e-01 6.29756005e-01]\n",
      " [1.62258973e+00 6.32290618e-01 1.23613832e+00 3.60752677e-01]\n",
      " [1.49863967e+00 7.53833027e-01 3.29311594e-01 1.40698348e+00]\n",
      " [1.25576062e+00 1.20435022e+00 1.13947151e+00 6.19188018e-01]\n",
      " [8.35393020e-01 8.41613655e-01 1.13026515e+00 7.92118728e-01]\n",
      " [1.51615499e+00 1.29402151e+00 4.81492770e-02 1.56069967e+00]\n",
      " [2.30705910e-01 1.26512143e+00 1.24074150e+00 1.07169004e+00]\n",
      " [3.10313024e-02 8.32970639e-01 1.13026515e+00 6.29756005e-01]\n",
      " [1.27094056e+00 1.32103093e+00 7.71217005e-01 1.23405277e+00]\n",
      " [6.17035408e-01 1.24000266e+00 1.03359834e+00 8.30547775e-01]\n",
      " [3.49810063e-01 9.42898996e-01 1.11185242e+00 2.34897549e-01]\n",
      " [1.59456522e+00 1.26512143e+00 1.64085003e+00 2.20534693e+00]\n",
      " [9.93206022e-01 9.90165488e-01 1.00597925e+00 1.19610408e-01]]\n"
     ]
    }
   ],
   "source": [
    "z = np.abs(stats.zscore(advertising))\n",
    "print(z)"
   ]
  },
  {
   "cell_type": "code",
   "execution_count": 20,
   "metadata": {},
   "outputs": [
    {
     "data": {
      "text/plain": [
       "(array([ 16, 101]), array([2, 2]))"
      ]
     },
     "execution_count": 20,
     "metadata": {},
     "output_type": "execute_result"
    }
   ],
   "source": [
    "np.where(z>3)"
   ]
  },
  {
   "cell_type": "code",
   "execution_count": 21,
   "metadata": {},
   "outputs": [
    {
     "name": "stdout",
     "output_type": "stream",
     "text": [
      "3.8411707150992718\n",
      "3.238153957342154\n"
     ]
    }
   ],
   "source": [
    "print(z[16][2])\n",
    "print(z[101][2])"
   ]
  },
  {
   "cell_type": "code",
   "execution_count": 22,
   "metadata": {},
   "outputs": [],
   "source": [
    "advertising_without_outlier = advertising[(z<3).all(axis=1)]"
   ]
  },
  {
   "cell_type": "code",
   "execution_count": 23,
   "metadata": {},
   "outputs": [
    {
     "name": "stdout",
     "output_type": "stream",
     "text": [
      "(200, 4)\n",
      "(198, 4)\n"
     ]
    }
   ],
   "source": [
    "# We can see here two rows got droped. \n",
    "\n",
    "print(advertising.shape)\n",
    "print(advertising_without_outlier.shape)"
   ]
  },
  {
   "cell_type": "code",
   "execution_count": 24,
   "metadata": {},
   "outputs": [],
   "source": [
    "advertising_without_outlier.drop_duplicates(inplace=True)"
   ]
  },
  {
   "cell_type": "code",
   "execution_count": 25,
   "metadata": {},
   "outputs": [
    {
     "data": {
      "text/plain": [
       "(198, 4)"
      ]
     },
     "execution_count": 25,
     "metadata": {},
     "output_type": "execute_result"
    }
   ],
   "source": [
    "advertising_without_outlier.shape"
   ]
  },
  {
   "cell_type": "code",
   "execution_count": 26,
   "metadata": {
    "scrolled": true
   },
   "outputs": [
    {
     "data": {
      "text/plain": [
       "<AxesSubplot:xlabel='Newspaper'>"
      ]
     },
     "execution_count": 26,
     "metadata": {},
     "output_type": "execute_result"
    },
    {
     "data": {
      "image/png": "[encoded data removed]",
      "text/plain": [
       "<Figure size 432x288 with 1 Axes>"
      ]
     },
     "metadata": {
      "needs_background": "light"
     },
     "output_type": "display_data"
    }
   ],
   "source": [
    "# Both outliers are removed. \n",
    "\n",
    "sns.boxplot(advertising_without_outlier.Newspaper)"
   ]
  },
  {
   "cell_type": "code",
   "execution_count": 27,
   "metadata": {},
   "outputs": [
    {
     "data": {
      "text/html": [
       "<div>\n",
       "<style scoped>\n",
       "    .dataframe tbody tr th:only-of-type {\n",
       "        vertical-align: middle;\n",
       "    }\n",
       "\n",
       "    .dataframe tbody tr th {\n",
       "        vertical-align: top;\n",
       "    }\n",
       "\n",
       "    .dataframe thead th {\n",
       "        text-align: right;\n",
       "    }\n",
       "</style>\n",
       "<table border=\"1\" class=\"dataframe\">\n",
       "  <thead>\n",
       "    <tr style=\"text-align: right;\">\n",
       "      <th></th>\n",
       "      <th>TV</th>\n",
       "      <th>Radio</th>\n",
       "      <th>Newspaper</th>\n",
       "      <th>Sales</th>\n",
       "    </tr>\n",
       "  </thead>\n",
       "  <tbody>\n",
       "    <tr>\n",
       "      <th>0</th>\n",
       "      <td>230.1</td>\n",
       "      <td>37.8</td>\n",
       "      <td>69.2</td>\n",
       "      <td>22.1</td>\n",
       "    </tr>\n",
       "    <tr>\n",
       "      <th>1</th>\n",
       "      <td>44.5</td>\n",
       "      <td>39.3</td>\n",
       "      <td>45.1</td>\n",
       "      <td>10.4</td>\n",
       "    </tr>\n",
       "    <tr>\n",
       "      <th>2</th>\n",
       "      <td>17.2</td>\n",
       "      <td>45.9</td>\n",
       "      <td>69.3</td>\n",
       "      <td>9.3</td>\n",
       "    </tr>\n",
       "    <tr>\n",
       "      <th>3</th>\n",
       "      <td>151.5</td>\n",
       "      <td>41.3</td>\n",
       "      <td>58.5</td>\n",
       "      <td>18.5</td>\n",
       "    </tr>\n",
       "    <tr>\n",
       "      <th>4</th>\n",
       "      <td>180.8</td>\n",
       "      <td>10.8</td>\n",
       "      <td>58.4</td>\n",
       "      <td>12.9</td>\n",
       "    </tr>\n",
       "  </tbody>\n",
       "</table>\n",
       "</div>"
      ],
      "text/plain": [
       "      TV  Radio  Newspaper  Sales\n",
       "0  230.1   37.8       69.2   22.1\n",
       "1   44.5   39.3       45.1   10.4\n",
       "2   17.2   45.9       69.3    9.3\n",
       "3  151.5   41.3       58.5   18.5\n",
       "4  180.8   10.8       58.4   12.9"
      ]
     },
     "execution_count": 27,
     "metadata": {},
     "output_type": "execute_result"
    }
   ],
   "source": [
    "advertising_without_outlier.head()"
   ]
  },
  {
   "cell_type": "code",
   "execution_count": 28,
   "metadata": {},
   "outputs": [
    {
     "data": {
      "text/plain": [
       "<seaborn.axisgrid.PairGrid at 0x7f6835e4fe20>"
      ]
     },
     "execution_count": 28,
     "metadata": {},
     "output_type": "execute_result"
    },
    {
     "data": {
      "image/png": "[encoded data removed]",
      "text/plain": [
       "<Figure size 1080x360 with 3 Axes>"
      ]
     },
     "metadata": {
      "needs_background": "light"
     },
     "output_type": "display_data"
    }
   ],
   "source": [
    "sns.pairplot(data = advertising_without_outlier, x_vars = ['TV', 'Radio', 'Newspaper'], y_vars = ['Sales'], size = 5, kind = 'scatter')"
   ]
  },
  {
   "cell_type": "code",
   "execution_count": 29,
   "metadata": {},
   "outputs": [
    {
     "data": {
      "text/plain": [
       "<AxesSubplot:xlabel='TV', ylabel='Sales'>"
      ]
     },
     "execution_count": 29,
     "metadata": {},
     "output_type": "execute_result"
    },
    {
     "data": {
      "image/png": "[encoded data removed]",
      "text/plain": [
       "<Figure size 432x288 with 1 Axes>"
      ]
     },
     "metadata": {
      "needs_background": "light"
     },
     "output_type": "display_data"
    }
   ],
   "source": [
    "sns.scatterplot(data = advertising_without_outlier, x = 'TV', y = 'Sales', )"
   ]
  },
  {
   "cell_type": "code",
   "execution_count": 30,
   "metadata": {},
   "outputs": [
    {
     "data": {
      "text/plain": [
       "<AxesSubplot:>"
      ]
     },
     "execution_count": 30,
     "metadata": {},
     "output_type": "execute_result"
    },
    {
     "data": {
      "image/png": "[encoded data removed]",
      "text/plain": [
       "<Figure size 432x288 with 2 Axes>"
      ]
     },
     "metadata": {
      "needs_background": "light"
     },
     "output_type": "display_data"
    }
   ],
   "source": [
    "sns.heatmap(advertising_without_outlier.corr(), cmap = \"YlGnBu\", annot = True)"
   ]
  },
  {
   "cell_type": "code",
   "execution_count": 31,
   "metadata": {},
   "outputs": [],
   "source": [
    "x = advertising_without_outlier['TV']\n",
    "y = advertising_without_outlier['Sales']"
   ]
  },
  {
   "cell_type": "markdown",
   "metadata": {},
   "source": [
    "### Splitting the data into Train and Test (with split ratio = 70-30)"
   ]
  },
  {
   "cell_type": "code",
   "execution_count": 32,
   "metadata": {},
   "outputs": [],
   "source": [
    "from sklearn.model_selection import train_test_split\n",
    "x_train, x_test, y_train, y_test = train_test_split(x,y, train_size=0.70, test_size=0.30, random_state=5)"
   ]
  },
  {
   "cell_type": "code",
   "execution_count": 33,
   "metadata": {},
   "outputs": [
    {
     "data": {
      "text/plain": [
       "188    286.0\n",
       "182     56.2\n",
       "60      53.5\n",
       "185    205.0\n",
       "12      23.8\n",
       "       ...  \n",
       "74     213.4\n",
       "146    240.1\n",
       "120    141.3\n",
       "191     75.5\n",
       "100    222.4\n",
       "Name: TV, Length: 138, dtype: float64"
      ]
     },
     "execution_count": 33,
     "metadata": {},
     "output_type": "execute_result"
    }
   ],
   "source": [
    " x_train"
   ]
  },
  {
   "cell_type": "code",
   "execution_count": 34,
   "metadata": {},
   "outputs": [
    {
     "data": {
      "text/plain": [
       "121     18.8\n",
       "78       5.4\n",
       "193    166.8\n",
       "150    280.7\n",
       "155      4.1\n",
       "Name: TV, dtype: float64"
      ]
     },
     "execution_count": 34,
     "metadata": {},
     "output_type": "execute_result"
    }
   ],
   "source": [
    "x_test.head()"
   ]
  },
  {
   "cell_type": "code",
   "execution_count": 35,
   "metadata": {},
   "outputs": [],
   "source": [
    "#Adding a constant (to get an intercept)\n",
    "x_train_sm = sm.add_constant(x_train)"
   ]
  },
  {
   "cell_type": "code",
   "execution_count": 36,
   "metadata": {
    "scrolled": true
   },
   "outputs": [
    {
     "data": {
      "text/html": [
       "<div>\n",
       "<style scoped>\n",
       "    .dataframe tbody tr th:only-of-type {\n",
       "        vertical-align: middle;\n",
       "    }\n",
       "\n",
       "    .dataframe tbody tr th {\n",
       "        vertical-align: top;\n",
       "    }\n",
       "\n",
       "    .dataframe thead th {\n",
       "        text-align: right;\n",
       "    }\n",
       "</style>\n",
       "<table border=\"1\" class=\"dataframe\">\n",
       "  <thead>\n",
       "    <tr style=\"text-align: right;\">\n",
       "      <th></th>\n",
       "      <th>const</th>\n",
       "      <th>TV</th>\n",
       "    </tr>\n",
       "  </thead>\n",
       "  <tbody>\n",
       "    <tr>\n",
       "      <th>188</th>\n",
       "      <td>1.0</td>\n",
       "      <td>286.0</td>\n",
       "    </tr>\n",
       "    <tr>\n",
       "      <th>182</th>\n",
       "      <td>1.0</td>\n",
       "      <td>56.2</td>\n",
       "    </tr>\n",
       "    <tr>\n",
       "      <th>60</th>\n",
       "      <td>1.0</td>\n",
       "      <td>53.5</td>\n",
       "    </tr>\n",
       "    <tr>\n",
       "      <th>185</th>\n",
       "      <td>1.0</td>\n",
       "      <td>205.0</td>\n",
       "    </tr>\n",
       "    <tr>\n",
       "      <th>12</th>\n",
       "      <td>1.0</td>\n",
       "      <td>23.8</td>\n",
       "    </tr>\n",
       "  </tbody>\n",
       "</table>\n",
       "</div>"
      ],
      "text/plain": [
       "     const     TV\n",
       "188    1.0  286.0\n",
       "182    1.0   56.2\n",
       "60     1.0   53.5\n",
       "185    1.0  205.0\n",
       "12     1.0   23.8"
      ]
     },
     "execution_count": 36,
     "metadata": {},
     "output_type": "execute_result"
    }
   ],
   "source": [
    "x_train_sm.head()"
   ]
  },
  {
   "cell_type": "markdown",
   "metadata": {},
   "source": [
    "## y = mx + c\n",
    "#### m = slope\n",
    "#### x = independent variable\n",
    "#### c= intercept\n",
    "#### y = targrt variavble "
   ]
  },
  {
   "cell_type": "code",
   "execution_count": 37,
   "metadata": {},
   "outputs": [],
   "source": [
    "#Fitting the regression model using OLS (of SM)\n",
    "\n",
    "lr = sm.OLS(y_train, x_train_sm).fit()"
   ]
  },
  {
   "cell_type": "code",
   "execution_count": 38,
   "metadata": {},
   "outputs": [
    {
     "data": {
      "text/plain": [
       "const    6.899255\n",
       "TV       0.048575\n",
       "dtype: float64"
      ]
     },
     "execution_count": 38,
     "metadata": {},
     "output_type": "execute_result"
    }
   ],
   "source": [
    "lr.params\n",
    "\n",
    "# Below we found C (intercept value) and m (slope value)"
   ]
  },
  {
   "cell_type": "code",
   "execution_count": 39,
   "metadata": {},
   "outputs": [
    {
     "data": {
      "text/html": [
       "<table class=\"simpletable\">\n",
       "<caption>OLS Regression Results</caption>\n",
       "<tr>\n",
       "  <th>Dep. Variable:</th>          <td>Sales</td>      <th>  R-squared:         </th> <td>   0.604</td>\n",
       "</tr>\n",
       "<tr>\n",
       "  <th>Model:</th>                   <td>OLS</td>       <th>  Adj. R-squared:    </th> <td>   0.601</td>\n",
       "</tr>\n",
       "<tr>\n",
       "  <th>Method:</th>             <td>Least Squares</td>  <th>  F-statistic:       </th> <td>   207.3</td>\n",
       "</tr>\n",
       "<tr>\n",
       "  <th>Date:</th>             <td>Sat, 18 Sep 2021</td> <th>  Prob (F-statistic):</th> <td>3.99e-29</td>\n",
       "</tr>\n",
       "<tr>\n",
       "  <th>Time:</th>                 <td>23:03:56</td>     <th>  Log-Likelihood:    </th> <td> -359.94</td>\n",
       "</tr>\n",
       "<tr>\n",
       "  <th>No. Observations:</th>      <td>   138</td>      <th>  AIC:               </th> <td>   723.9</td>\n",
       "</tr>\n",
       "<tr>\n",
       "  <th>Df Residuals:</th>          <td>   136</td>      <th>  BIC:               </th> <td>   729.7</td>\n",
       "</tr>\n",
       "<tr>\n",
       "  <th>Df Model:</th>              <td>     1</td>      <th>                     </th>     <td> </td>   \n",
       "</tr>\n",
       "<tr>\n",
       "  <th>Covariance Type:</th>      <td>nonrobust</td>    <th>                     </th>     <td> </td>   \n",
       "</tr>\n",
       "</table>\n",
       "<table class=\"simpletable\">\n",
       "<tr>\n",
       "    <td></td>       <th>coef</th>     <th>std err</th>      <th>t</th>      <th>P>|t|</th>  <th>[0.025</th>    <th>0.975]</th>  \n",
       "</tr>\n",
       "<tr>\n",
       "  <th>const</th> <td>    6.8993</td> <td>    0.592</td> <td>   11.649</td> <td> 0.000</td> <td>    5.728</td> <td>    8.070</td>\n",
       "</tr>\n",
       "<tr>\n",
       "  <th>TV</th>    <td>    0.0486</td> <td>    0.003</td> <td>   14.396</td> <td> 0.000</td> <td>    0.042</td> <td>    0.055</td>\n",
       "</tr>\n",
       "</table>\n",
       "<table class=\"simpletable\">\n",
       "<tr>\n",
       "  <th>Omnibus:</th>       <td> 1.356</td> <th>  Durbin-Watson:     </th> <td>   1.910</td>\n",
       "</tr>\n",
       "<tr>\n",
       "  <th>Prob(Omnibus):</th> <td> 0.508</td> <th>  Jarque-Bera (JB):  </th> <td>   1.247</td>\n",
       "</tr>\n",
       "<tr>\n",
       "  <th>Skew:</th>          <td>-0.089</td> <th>  Prob(JB):          </th> <td>   0.536</td>\n",
       "</tr>\n",
       "<tr>\n",
       "  <th>Kurtosis:</th>      <td> 2.570</td> <th>  Cond. No.          </th> <td>    369.</td>\n",
       "</tr>\n",
       "</table><br/><br/>Notes:<br/>[1] Standard Errors assume that the covariance matrix of the errors is correctly specified."
      ],
      "text/plain": [
       "<class 'statsmodels.iolib.summary.Summary'>\n",
       "\"\"\"\n",
       "                            OLS Regression Results                            \n",
       "==============================================================================\n",
       "Dep. Variable:                  Sales   R-squared:                       0.604\n",
       "Model:                            OLS   Adj. R-squared:                  0.601\n",
       "Method:                 Least Squares   F-statistic:                     207.3\n",
       "Date:                Sat, 18 Sep 2021   Prob (F-statistic):           3.99e-29\n",
       "Time:                        23:03:56   Log-Likelihood:                -359.94\n",
       "No. Observations:                 138   AIC:                             723.9\n",
       "Df Residuals:                     136   BIC:                             729.7\n",
       "Df Model:                           1                                         \n",
       "Covariance Type:            nonrobust                                         \n",
       "==============================================================================\n",
       "                 coef    std err          t      P>|t|      [0.025      0.975]\n",
       "------------------------------------------------------------------------------\n",
       "const          6.8993      0.592     11.649      0.000       5.728       8.070\n",
       "TV             0.0486      0.003     14.396      0.000       0.042       0.055\n",
       "==============================================================================\n",
       "Omnibus:                        1.356   Durbin-Watson:                   1.910\n",
       "Prob(Omnibus):                  0.508   Jarque-Bera (JB):                1.247\n",
       "Skew:                          -0.089   Prob(JB):                        0.536\n",
       "Kurtosis:                       2.570   Cond. No.                         369.\n",
       "==============================================================================\n",
       "\n",
       "Notes:\n",
       "[1] Standard Errors assume that the covariance matrix of the errors is correctly specified.\n",
       "\"\"\""
      ]
     },
     "execution_count": 39,
     "metadata": {},
     "output_type": "execute_result"
    }
   ],
   "source": [
    "lr.summary()"
   ]
  },
  {
   "cell_type": "code",
   "execution_count": 42,
   "metadata": {},
   "outputs": [
    {
     "data": {
      "image/png": "[encoded data removed]",
      "text/plain": [
       "<Figure size 432x288 with 1 Axes>"
      ]
     },
     "metadata": {
      "needs_background": "light"
     },
     "output_type": "display_data"
    }
   ],
   "source": [
    "#Visualize the regression line - best fit line\n",
    "# the below code in y = mx + c format\n",
    "\n",
    "plt.scatter(x_train, y_train)\n",
    "#                   c    + m      * x\n",
    "plt.plot(x_train, 6.8944 + 0.0487 * x_train, 'r')\n",
    "plt.show()"
   ]
  },
  {
   "cell_type": "code",
   "execution_count": 43,
   "metadata": {},
   "outputs": [],
   "source": [
    "#Error Analysis\n",
    "\n",
    "y_train_pred = lr.predict(x_train_sm)\n",
    "\n",
    "res = (y_train - y_train_pred)"
   ]
  },
  {
   "cell_type": "code",
   "execution_count": 44,
   "metadata": {},
   "outputs": [
    {
     "data": {
      "text/plain": [
       "188   -4.891585\n",
       "182   -0.929146\n",
       "60    -1.397995\n",
       "185    5.742956\n",
       "12     1.144670\n",
       "dtype: float64"
      ]
     },
     "execution_count": 44,
     "metadata": {},
     "output_type": "execute_result"
    }
   ],
   "source": [
    "res.head()"
   ]
  },
  {
   "cell_type": "code",
   "execution_count": 45,
   "metadata": {},
   "outputs": [
    {
     "data": {
      "text/plain": [
       "Text(0.42499999999999716, 0.5, 'freq')"
      ]
     },
     "execution_count": 45,
     "metadata": {},
     "output_type": "execute_result"
    },
    {
     "data": {
      "image/png": "[encoded data removed]",
      "text/plain": [
       "<Figure size 360x360 with 1 Axes>"
      ]
     },
     "metadata": {
      "needs_background": "light"
     },
     "output_type": "display_data"
    }
   ],
   "source": [
    "#PLotting the histogram of errors\n",
    "\n",
    "sns.displot(res, bins =15, kde=True)\n",
    "plt.title('Error Terms')\n",
    "plt.xlabel('Residual Errors')\n",
    "plt.ylabel('freq')"
   ]
  },
  {
   "cell_type": "code",
   "execution_count": 46,
   "metadata": {},
   "outputs": [],
   "source": [
    "# adding constant \n",
    "x_test_sm = sm.add_constant(x_test)"
   ]
  },
  {
   "cell_type": "code",
   "execution_count": 47,
   "metadata": {},
   "outputs": [
    {
     "data": {
      "text/html": [
       "<div>\n",
       "<style scoped>\n",
       "    .dataframe tbody tr th:only-of-type {\n",
       "        vertical-align: middle;\n",
       "    }\n",
       "\n",
       "    .dataframe tbody tr th {\n",
       "        vertical-align: top;\n",
       "    }\n",
       "\n",
       "    .dataframe thead th {\n",
       "        text-align: right;\n",
       "    }\n",
       "</style>\n",
       "<table border=\"1\" class=\"dataframe\">\n",
       "  <thead>\n",
       "    <tr style=\"text-align: right;\">\n",
       "      <th></th>\n",
       "      <th>const</th>\n",
       "      <th>TV</th>\n",
       "    </tr>\n",
       "  </thead>\n",
       "  <tbody>\n",
       "    <tr>\n",
       "      <th>121</th>\n",
       "      <td>1.0</td>\n",
       "      <td>18.8</td>\n",
       "    </tr>\n",
       "    <tr>\n",
       "      <th>78</th>\n",
       "      <td>1.0</td>\n",
       "      <td>5.4</td>\n",
       "    </tr>\n",
       "    <tr>\n",
       "      <th>193</th>\n",
       "      <td>1.0</td>\n",
       "      <td>166.8</td>\n",
       "    </tr>\n",
       "    <tr>\n",
       "      <th>150</th>\n",
       "      <td>1.0</td>\n",
       "      <td>280.7</td>\n",
       "    </tr>\n",
       "    <tr>\n",
       "      <th>155</th>\n",
       "      <td>1.0</td>\n",
       "      <td>4.1</td>\n",
       "    </tr>\n",
       "  </tbody>\n",
       "</table>\n",
       "</div>"
      ],
      "text/plain": [
       "     const     TV\n",
       "121    1.0   18.8\n",
       "78     1.0    5.4\n",
       "193    1.0  166.8\n",
       "150    1.0  280.7\n",
       "155    1.0    4.1"
      ]
     },
     "execution_count": 47,
     "metadata": {},
     "output_type": "execute_result"
    }
   ],
   "source": [
    "x_test_sm.head()"
   ]
  },
  {
   "cell_type": "code",
   "execution_count": 49,
   "metadata": {},
   "outputs": [],
   "source": [
    "y_test_pred = lr.predict(x_test_sm)"
   ]
  },
  {
   "cell_type": "code",
   "execution_count": 52,
   "metadata": {},
   "outputs": [],
   "source": [
    "# Error analysis\n",
    "res_test = (y_test - y_test_pred)"
   ]
  },
  {
   "cell_type": "code",
   "execution_count": 53,
   "metadata": {},
   "outputs": [
    {
     "data": {
      "text/plain": [
       "Text(0, 0.5, 'freq')"
      ]
     },
     "execution_count": 53,
     "metadata": {},
     "output_type": "execute_result"
    },
    {
     "data": {
      "image/png": "[encoded data removed]",
      "text/plain": [
       "<Figure size 432x288 with 1 Axes>"
      ]
     },
     "metadata": {
      "needs_background": "light"
     },
     "output_type": "display_data"
    }
   ],
   "source": [
    "#PLotting the histogram of errors\n",
    "\n",
    "sns.distplot(res_test, bins = 15)\n",
    "plt.title('Test Data Error Terms')\n",
    "plt.xlabel('Residual Errors')\n",
    "plt.ylabel('freq')"
   ]
  },
  {
   "cell_type": "code",
   "execution_count": 57,
   "metadata": {},
   "outputs": [
    {
     "data": {
      "text/plain": [
       "0.5924473069659639"
      ]
     },
     "execution_count": 57,
     "metadata": {},
     "output_type": "execute_result"
    }
   ],
   "source": [
    "from sklearn.metrics import r2_score\n",
    "r_sq = r2_score(y_test, y_test_pred)\n",
    "r_sq"
   ]
  },
  {
   "cell_type": "code",
   "execution_count": 58,
   "metadata": {},
   "outputs": [],
   "source": [
    "#Splitting the data into Train and Test (with split ratio = 70-30)\n",
    "\n",
    "from sklearn.model_selection import train_test_split\n",
    "x_train_lm, x_test_lm, y_train_lm, y_test_lm = train_test_split(x,y, test_size=0.3, random_state=0)\n"
   ]
  },
  {
   "cell_type": "code",
   "execution_count": 60,
   "metadata": {},
   "outputs": [],
   "source": [
    "X_train_lm =  x_train_lm.values.reshape(-1,1)\n",
    "X_test_lm = x_test_lm.values.reshape(-1,1)"
   ]
  },
  {
   "cell_type": "code",
   "execution_count": 61,
   "metadata": {},
   "outputs": [
    {
     "data": {
      "text/plain": [
       "141    193.7\n",
       "81     239.8\n",
       "20     218.4\n",
       "161     85.7\n",
       "91      28.6\n",
       "Name: TV, dtype: float64"
      ]
     },
     "execution_count": 61,
     "metadata": {},
     "output_type": "execute_result"
    }
   ],
   "source": [
    "x_train_lm.head()"
   ]
  },
  {
   "cell_type": "code",
   "execution_count": 69,
   "metadata": {},
   "outputs": [
    {
     "data": {
      "text/plain": [
       "LinearRegression()"
      ]
     },
     "execution_count": 69,
     "metadata": {},
     "output_type": "execute_result"
    }
   ],
   "source": [
    "from sklearn.linear_model import LinearRegression\n",
    "\n",
    "lm = LinearRegression()\n",
    "\n",
    "lm.fit(X_train_lm, y_train_lm)\n"
   ]
  },
  {
   "cell_type": "code",
   "execution_count": 70,
   "metadata": {},
   "outputs": [
    {
     "name": "stdout",
     "output_type": "stream",
     "text": [
      "7.224761153406221\n"
     ]
    }
   ],
   "source": [
    "print(lm.intercept_)"
   ]
  },
  {
   "cell_type": "code",
   "execution_count": 72,
   "metadata": {},
   "outputs": [
    {
     "name": "stdout",
     "output_type": "stream",
     "text": [
      "[0.04504143]\n"
     ]
    }
   ],
   "source": [
    "print(lm.coef_)"
   ]
  },
  {
   "cell_type": "code",
   "execution_count": 74,
   "metadata": {},
   "outputs": [],
   "source": [
    "y_train_pred = lm.predict(X_train_lm)\n",
    "y_test_pred = lm.predict(X_test_lm)"
   ]
  },
  {
   "cell_type": "code",
   "execution_count": 75,
   "metadata": {},
   "outputs": [
    {
     "name": "stdout",
     "output_type": "stream",
     "text": [
      "0.5821206013276059\n"
     ]
    }
   ],
   "source": [
    "print(r2_score(y_train_lm, y_train_pred))"
   ]
  },
  {
   "cell_type": "code",
   "execution_count": 76,
   "metadata": {},
   "outputs": [
    {
     "name": "stdout",
     "output_type": "stream",
     "text": [
      "0.6469916433886265\n"
     ]
    }
   ],
   "source": [
    "print(r2_score(y_test_lm, y_test_pred))"
   ]
  }
 ],
 "metadata": {
  "kernelspec": {
   "display_name": "Python 3",
   "language": "python",
   "name": "python3"
  },
  "language_info": {
   "codemirror_mode": {
    "name": "ipython",
    "version": 3
   },
   "file_extension": ".py",
   "mimetype": "text/x-python",
   "name": "python",
   "nbconvert_exporter": "python",
   "pygments_lexer": "ipython3",
   "version": "3.8.8"
  }
 },
 "nbformat": 4,
 "nbformat_minor": 4
}
